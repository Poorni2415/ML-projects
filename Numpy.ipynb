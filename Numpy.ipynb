{
  "nbformat": 4,
  "nbformat_minor": 0,
  "metadata": {
    "colab": {
      "provenance": [],
      "authorship_tag": "ABX9TyP832XSn3zX7sjKZlxN58QL",
      "include_colab_link": true
    },
    "kernelspec": {
      "name": "python3",
      "display_name": "Python 3"
    },
    "language_info": {
      "name": "python"
    }
  },
  "cells": [
    {
      "cell_type": "markdown",
      "metadata": {
        "id": "view-in-github",
        "colab_type": "text"
      },
      "source": [
        "<a href=\"https://colab.research.google.com/github/Poorni2415/ML-projects/blob/main/Numpy.ipynb\" target=\"_parent\"><img src=\"https://colab.research.google.com/assets/colab-badge.svg\" alt=\"Open In Colab\"/></a>"
      ]
    },
    {
      "cell_type": "markdown",
      "source": [
        "Basics"
      ],
      "metadata": {
        "id": "AAM6KP_w65_T"
      }
    },
    {
      "cell_type": "code",
      "source": [
        "import numpy as np"
      ],
      "metadata": {
        "id": "LiNTZRbE67o0"
      },
      "execution_count": null,
      "outputs": []
    },
    {
      "cell_type": "code",
      "source": [
        "d=np.linspace(10,30,3)"
      ],
      "metadata": {
        "id": "u5IEksbE7Cva"
      },
      "execution_count": null,
      "outputs": []
    },
    {
      "cell_type": "code",
      "source": [
        "print(d)"
      ],
      "metadata": {
        "colab": {
          "base_uri": "https://localhost:8080/"
        },
        "id": "CEhpQ3kv7Knc",
        "outputId": "6fc8ebc1-f6d3-4450-8fa5-be68432185b0"
      },
      "execution_count": null,
      "outputs": [
        {
          "output_type": "stream",
          "name": "stdout",
          "text": [
            "[10. 20. 30.]\n"
          ]
        }
      ]
    },
    {
      "cell_type": "code",
      "source": [
        "t=np.arange(10,30,2)"
      ],
      "metadata": {
        "id": "Dyuhfp7P7Ma3"
      },
      "execution_count": null,
      "outputs": []
    },
    {
      "cell_type": "code",
      "source": [
        "print(t)"
      ],
      "metadata": {
        "colab": {
          "base_uri": "https://localhost:8080/"
        },
        "id": "AY-MmfRR71P2",
        "outputId": "efdc0c4f-f30f-46e4-86e8-d078412df565"
      },
      "execution_count": null,
      "outputs": [
        {
          "output_type": "stream",
          "name": "stdout",
          "text": [
            "[10 12 14 16 18 20 22 24 26 28]\n"
          ]
        }
      ]
    },
    {
      "cell_type": "code",
      "source": [
        "import pandas as pd"
      ],
      "metadata": {
        "id": "cAiK_Vki7754"
      },
      "execution_count": null,
      "outputs": []
    },
    {
      "cell_type": "code",
      "source": [
        "ds=pd.read_csv('/content/housing.csv')"
      ],
      "metadata": {
        "id": "Wr6Q6hXp3IWu"
      },
      "execution_count": null,
      "outputs": []
    },
    {
      "cell_type": "code",
      "source": [
        "print(ds)"
      ],
      "metadata": {
        "colab": {
          "base_uri": "https://localhost:8080/"
        },
        "id": "_AczD10D3NUH",
        "outputId": "af6fc395-c47b-4787-cbd5-f6e634e47f47"
      },
      "execution_count": null,
      "outputs": [
        {
          "output_type": "stream",
          "name": "stdout",
          "text": [
            "    0.00632  18.00   2.310  0  0.5380  6.5750  65.20  4.0900   1  296.0  15.30 396.90   4.98  24.00\n",
            "0     0.02731   0.00   7.070  0  0.4690  6.4210  78...                                             \n",
            "1     0.02729   0.00   7.070  0  0.4690  7.1850  61...                                             \n",
            "2     0.03237   0.00   2.180  0  0.4580  6.9980  45...                                             \n",
            "3     0.06905   0.00   2.180  0  0.4580  7.1470  54...                                             \n",
            "4     0.02985   0.00   2.180  0  0.4580  6.4300  58...                                             \n",
            "..                                                 ...                                             \n",
            "500   0.06263   0.00  11.930  0  0.5730  6.5930  69...                                             \n",
            "501   0.04527   0.00  11.930  0  0.5730  6.1200  76...                                             \n",
            "502   0.06076   0.00  11.930  0  0.5730  6.9760  91...                                             \n",
            "503   0.10959   0.00  11.930  0  0.5730  6.7940  89...                                             \n",
            "504   0.04741   0.00  11.930  0  0.5730  6.0300  80...                                             \n",
            "\n",
            "[505 rows x 1 columns]\n"
          ]
        }
      ]
    },
    {
      "cell_type": "code",
      "source": [
        "d=pd.DataFrame(ds)"
      ],
      "metadata": {
        "id": "utwffNO53QAl"
      },
      "execution_count": null,
      "outputs": []
    },
    {
      "cell_type": "code",
      "source": [
        "print(d)"
      ],
      "metadata": {
        "colab": {
          "base_uri": "https://localhost:8080/"
        },
        "id": "QD7_5Xhe3Uwe",
        "outputId": "e271de50-71c9-40a9-995f-ea9950815c3f"
      },
      "execution_count": null,
      "outputs": [
        {
          "output_type": "stream",
          "name": "stdout",
          "text": [
            "    0.00632  18.00   2.310  0  0.5380  6.5750  65.20  4.0900   1  296.0  15.30 396.90   4.98  24.00\n",
            "0     0.02731   0.00   7.070  0  0.4690  6.4210  78...                                             \n",
            "1     0.02729   0.00   7.070  0  0.4690  7.1850  61...                                             \n",
            "2     0.03237   0.00   2.180  0  0.4580  6.9980  45...                                             \n",
            "3     0.06905   0.00   2.180  0  0.4580  7.1470  54...                                             \n",
            "4     0.02985   0.00   2.180  0  0.4580  6.4300  58...                                             \n",
            "..                                                 ...                                             \n",
            "500   0.06263   0.00  11.930  0  0.5730  6.5930  69...                                             \n",
            "501   0.04527   0.00  11.930  0  0.5730  6.1200  76...                                             \n",
            "502   0.06076   0.00  11.930  0  0.5730  6.9760  91...                                             \n",
            "503   0.10959   0.00  11.930  0  0.5730  6.7940  89...                                             \n",
            "504   0.04741   0.00  11.930  0  0.5730  6.0300  80...                                             \n",
            "\n",
            "[505 rows x 1 columns]\n"
          ]
        }
      ]
    },
    {
      "cell_type": "code",
      "source": [
        "print(d.size)"
      ],
      "metadata": {
        "colab": {
          "base_uri": "https://localhost:8080/"
        },
        "id": "t7QgKc9I3jRR",
        "outputId": "a5d5cc9a-1048-4dbc-df87-97c9118092a8"
      },
      "execution_count": null,
      "outputs": [
        {
          "output_type": "stream",
          "name": "stdout",
          "text": [
            "505\n"
          ]
        }
      ]
    },
    {
      "cell_type": "code",
      "source": [
        "!pip install kaggle"
      ],
      "metadata": {
        "colab": {
          "base_uri": "https://localhost:8080/"
        },
        "id": "z4TlhssS3ohK",
        "outputId": "c2a83cc9-55b9-4f04-c0f5-9befc3a624f0"
      },
      "execution_count": null,
      "outputs": [
        {
          "output_type": "stream",
          "name": "stdout",
          "text": [
            "Requirement already satisfied: kaggle in /usr/local/lib/python3.10/dist-packages (1.6.17)\n",
            "Requirement already satisfied: six>=1.10 in /usr/local/lib/python3.10/dist-packages (from kaggle) (1.17.0)\n",
            "Requirement already satisfied: certifi>=2023.7.22 in /usr/local/lib/python3.10/dist-packages (from kaggle) (2024.12.14)\n",
            "Requirement already satisfied: python-dateutil in /usr/local/lib/python3.10/dist-packages (from kaggle) (2.8.2)\n",
            "Requirement already satisfied: requests in /usr/local/lib/python3.10/dist-packages (from kaggle) (2.32.3)\n",
            "Requirement already satisfied: tqdm in /usr/local/lib/python3.10/dist-packages (from kaggle) (4.67.1)\n",
            "Requirement already satisfied: python-slugify in /usr/local/lib/python3.10/dist-packages (from kaggle) (8.0.4)\n",
            "Requirement already satisfied: urllib3 in /usr/local/lib/python3.10/dist-packages (from kaggle) (2.3.0)\n",
            "Requirement already satisfied: bleach in /usr/local/lib/python3.10/dist-packages (from kaggle) (6.2.0)\n",
            "Requirement already satisfied: webencodings in /usr/local/lib/python3.10/dist-packages (from bleach->kaggle) (0.5.1)\n",
            "Requirement already satisfied: text-unidecode>=1.3 in /usr/local/lib/python3.10/dist-packages (from python-slugify->kaggle) (1.3)\n",
            "Requirement already satisfied: charset-normalizer<4,>=2 in /usr/local/lib/python3.10/dist-packages (from requests->kaggle) (3.4.1)\n",
            "Requirement already satisfied: idna<4,>=2.5 in /usr/local/lib/python3.10/dist-packages (from requests->kaggle) (3.10)\n"
          ]
        }
      ]
    },
    {
      "cell_type": "code",
      "source": [],
      "metadata": {
        "id": "T2SavFTQ6SRn"
      },
      "execution_count": null,
      "outputs": []
    }
  ]
}